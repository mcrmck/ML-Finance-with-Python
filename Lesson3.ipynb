{
 "cells": [
  {
   "cell_type": "markdown",
   "metadata": {},
   "source": [
    "# Lesson 3: Neural Networks and KNN\n",
    "\n",
    "## Recap Lesson 2\n",
    "\n",
    "Today, we will learn how to normalize and scale data for use in KNN and neural network methods. Then we will learn how to use KNN and neural network regression to predict the future values of a stock's price.\n",
    "\n",
    "First, let's load our code from previous lessons:"
   ]
  },
  {
   "cell_type": "code",
   "execution_count": 33,
   "metadata": {},
   "outputs": [
    {
     "name": "stdout",
     "output_type": "stream",
     "text": [
      "Requirement already satisfied: pandas in /Users/willmccormack/Library/Python/3.7/lib/python/site-packages (1.0.5)\n",
      "Requirement already satisfied: numpy>=1.13.3 in /usr/local/lib/python3.7/site-packages (from pandas) (1.18.5)\n",
      "Requirement already satisfied: pytz>=2017.2 in /Users/willmccormack/Library/Python/3.7/lib/python/site-packages (from pandas) (2020.1)\n",
      "Requirement already satisfied: python-dateutil>=2.6.1 in /Users/willmccormack/Library/Python/3.7/lib/python/site-packages (from pandas) (2.8.1)\n",
      "Requirement already satisfied: six>=1.5 in /usr/local/lib/python3.7/site-packages (from python-dateutil>=2.6.1->pandas) (1.15.0)\n",
      "Requirement already satisfied: matplotlib in /Users/willmccormack/Library/Python/3.7/lib/python/site-packages (3.2.2)\n",
      "Requirement already satisfied: pyparsing!=2.0.4,!=2.1.2,!=2.1.6,>=2.0.1 in /Users/willmccormack/Library/Python/3.7/lib/python/site-packages (from matplotlib) (2.4.7)\n",
      "Requirement already satisfied: numpy>=1.11 in /usr/local/lib/python3.7/site-packages (from matplotlib) (1.18.5)\n",
      "Requirement already satisfied: kiwisolver>=1.0.1 in /Users/willmccormack/Library/Python/3.7/lib/python/site-packages (from matplotlib) (1.2.0)\n",
      "Requirement already satisfied: cycler>=0.10 in /Users/willmccormack/Library/Python/3.7/lib/python/site-packages (from matplotlib) (0.10.0)\n",
      "Requirement already satisfied: python-dateutil>=2.1 in /Users/willmccormack/Library/Python/3.7/lib/python/site-packages (from matplotlib) (2.8.1)\n",
      "Requirement already satisfied: six in /usr/local/lib/python3.7/site-packages (from cycler>=0.10->matplotlib) (1.15.0)\n",
      "Requirement already satisfied: TA-Lib in /usr/local/lib/python3.7/site-packages (0.4.18)\n",
      "Requirement already satisfied: numpy in /usr/local/lib/python3.7/site-packages (from TA-Lib) (1.18.5)\n",
      "Requirement already satisfied: seaborn in /Users/willmccormack/Library/Python/3.7/lib/python/site-packages (0.10.1)\n",
      "Requirement already satisfied: pandas>=0.22.0 in /Users/willmccormack/Library/Python/3.7/lib/python/site-packages (from seaborn) (1.0.5)\n",
      "Requirement already satisfied: numpy>=1.13.3 in /usr/local/lib/python3.7/site-packages (from seaborn) (1.18.5)\n",
      "Requirement already satisfied: matplotlib>=2.1.2 in /Users/willmccormack/Library/Python/3.7/lib/python/site-packages (from seaborn) (3.2.2)\n",
      "Requirement already satisfied: scipy>=1.0.1 in /usr/local/lib/python3.7/site-packages (from seaborn) (1.4.1)\n",
      "Requirement already satisfied: pytz>=2017.2 in /Users/willmccormack/Library/Python/3.7/lib/python/site-packages (from pandas>=0.22.0->seaborn) (2020.1)\n",
      "Requirement already satisfied: python-dateutil>=2.6.1 in /Users/willmccormack/Library/Python/3.7/lib/python/site-packages (from pandas>=0.22.0->seaborn) (2.8.1)\n",
      "Requirement already satisfied: pyparsing!=2.0.4,!=2.1.2,!=2.1.6,>=2.0.1 in /Users/willmccormack/Library/Python/3.7/lib/python/site-packages (from matplotlib>=2.1.2->seaborn) (2.4.7)\n",
      "Requirement already satisfied: cycler>=0.10 in /Users/willmccormack/Library/Python/3.7/lib/python/site-packages (from matplotlib>=2.1.2->seaborn) (0.10.0)\n",
      "Requirement already satisfied: kiwisolver>=1.0.1 in /Users/willmccormack/Library/Python/3.7/lib/python/site-packages (from matplotlib>=2.1.2->seaborn) (1.2.0)\n",
      "Requirement already satisfied: six>=1.5 in /usr/local/lib/python3.7/site-packages (from python-dateutil>=2.6.1->pandas>=0.22.0->seaborn) (1.15.0)\n",
      "Requirement already satisfied: statsmodels in /usr/local/lib/python3.7/site-packages (0.12.0)\n",
      "Requirement already satisfied: pandas>=0.21 in /Users/willmccormack/Library/Python/3.7/lib/python/site-packages (from statsmodels) (1.0.5)\n",
      "Requirement already satisfied: patsy>=0.5 in /usr/local/lib/python3.7/site-packages (from statsmodels) (0.5.1)\n",
      "Requirement already satisfied: numpy>=1.15 in /usr/local/lib/python3.7/site-packages (from statsmodels) (1.18.5)\n",
      "Requirement already satisfied: scipy>=1.1 in /usr/local/lib/python3.7/site-packages (from statsmodels) (1.4.1)\n",
      "Requirement already satisfied: python-dateutil>=2.6.1 in /Users/willmccormack/Library/Python/3.7/lib/python/site-packages (from pandas>=0.21->statsmodels) (2.8.1)\n",
      "Requirement already satisfied: pytz>=2017.2 in /Users/willmccormack/Library/Python/3.7/lib/python/site-packages (from pandas>=0.21->statsmodels) (2020.1)\n",
      "Requirement already satisfied: six in /usr/local/lib/python3.7/site-packages (from patsy>=0.5->statsmodels) (1.15.0)\n",
      "Requirement already satisfied: scikit-learn in /usr/local/lib/python3.7/site-packages (0.23.2)\n",
      "Requirement already satisfied: threadpoolctl>=2.0.0 in /usr/local/lib/python3.7/site-packages (from scikit-learn) (2.1.0)\n",
      "Requirement already satisfied: numpy>=1.13.3 in /usr/local/lib/python3.7/site-packages (from scikit-learn) (1.18.5)\n",
      "Requirement already satisfied: scipy>=0.19.1 in /usr/local/lib/python3.7/site-packages (from scikit-learn) (1.4.1)\n",
      "Requirement already satisfied: joblib>=0.11 in /Users/willmccormack/Library/Python/3.7/lib/python/site-packages (from scikit-learn) (0.15.1)\n",
      "Requirement already satisfied: keras in /usr/local/lib/python3.7/site-packages (2.3.1)\n",
      "Requirement already satisfied: h5py in /usr/local/lib/python3.7/site-packages (from keras) (2.10.0)\n",
      "Requirement already satisfied: keras-applications>=1.0.6 in /usr/local/lib/python3.7/site-packages (from keras) (1.0.8)\n",
      "Requirement already satisfied: scipy>=0.14 in /usr/local/lib/python3.7/site-packages (from keras) (1.4.1)\n",
      "Requirement already satisfied: six>=1.9.0 in /usr/local/lib/python3.7/site-packages (from keras) (1.15.0)\n",
      "Requirement already satisfied: keras-preprocessing>=1.0.5 in /usr/local/lib/python3.7/site-packages (from keras) (1.1.2)\n",
      "Requirement already satisfied: pyyaml in /Users/willmccormack/Library/Python/3.7/lib/python/site-packages (from keras) (5.3.1)\n",
      "Requirement already satisfied: numpy>=1.9.1 in /usr/local/lib/python3.7/site-packages (from keras) (1.18.5)\n",
      "            5d_close_pct      ma14      rsi14      ma30      rsi30      ma50  \\\n",
      "Date                                                                           \n",
      "2017-01-31      0.043812  0.950697  62.968946  0.918657  60.655749  0.895731   \n",
      "2017-02-01     -0.023429  0.967486  60.156019  0.932427  59.159791  0.910110   \n",
      "2017-02-02     -0.021618  0.932220  66.659314  0.895486  62.988478  0.873379   \n",
      "2017-02-03      0.007336  0.938976  66.920059  0.899461  63.148741  0.875497   \n",
      "2017-02-06      0.022129  0.964080  62.059184  0.921608  60.623276  0.895860   \n",
      "...                  ...       ...        ...       ...        ...       ...   \n",
      "2018-01-22      0.012059  0.992134  67.454995  0.948517  65.158943  0.918783   \n",
      "2018-01-23      0.024189  0.964486  74.935143  0.925169  68.970930  0.892687   \n",
      "2018-01-24      0.039871  0.955403  77.285688  0.919390  70.372876  0.884135   \n",
      "2018-01-25      0.062918  0.945533  79.745833  0.911759  71.949694  0.873825   \n",
      "2018-01-26      0.081680  0.932322  82.498274  0.900267  73.888101  0.859917   \n",
      "\n",
      "                rsi50     ma200     rsi200  Adj_Volume_1d_change  \\\n",
      "Date                                                               \n",
      "2017-01-31  57.951677  0.839267  53.695377             -0.175332   \n",
      "2017-02-01  57.041713  0.850150  53.487663             -0.040125   \n",
      "2017-02-02  59.662227  0.812956  54.209475              0.501912   \n",
      "2017-02-03  59.774509  0.812490  54.241479              0.349442   \n",
      "2017-02-06  58.236185  0.829234  53.889442             -0.497152   \n",
      "...               ...       ...        ...                   ...   \n",
      "2018-01-22  61.731725  0.853612  54.558480              0.273318   \n",
      "2018-01-23  64.237104  0.828025  55.225121              1.102359   \n",
      "2018-01-24  65.208812  0.818346  55.499429              0.397173   \n",
      "2018-01-25  66.331501  0.806837  55.826546             -0.286014   \n",
      "2018-01-26  67.762744  0.791664  56.262219             -0.156364   \n",
      "\n",
      "            Adj_Volume_1d_change_SMA  weekday_1  weekday_2  weekday_3  \\\n",
      "Date                                                                    \n",
      "2017-01-31                 -0.000664          1          0          0   \n",
      "2017-02-01                 -0.165783          0          1          0   \n",
      "2017-02-02                 -0.081419          0          0          1   \n",
      "2017-02-03                  0.108332          0          0          0   \n",
      "2017-02-06                  0.027749          0          0          0   \n",
      "...                              ...        ...        ...        ...   \n",
      "2018-01-22                  0.189102          0          0          0   \n",
      "2018-01-23                  0.066846          1          0          0   \n",
      "2018-01-24                  0.243679          0          1          0   \n",
      "2018-01-25                  0.251154          0          0          1   \n",
      "2018-01-26                  0.266094          0          0          0   \n",
      "\n",
      "            weekday_4  \n",
      "Date                   \n",
      "2017-01-31          0  \n",
      "2017-02-01          0  \n",
      "2017-02-02          0  \n",
      "2017-02-03          1  \n",
      "2017-02-06          0  \n",
      "...               ...  \n",
      "2018-01-22          0  \n",
      "2018-01-23          0  \n",
      "2018-01-24          0  \n",
      "2018-01-25          0  \n",
      "2018-01-26          1  \n",
      "\n",
      "[250 rows x 15 columns]\n"
     ]
    }
   ],
   "source": [
    "import sys\n",
    "!{sys.executable} -m pip install pandas\n",
    "!{sys.executable} -m pip install matplotlib\n",
    "!{sys.executable} -m pip install TA-Lib\n",
    "!{sys.executable} -m pip install seaborn\n",
    "!{sys.executable} -m pip install statsmodels\n",
    "!{sys.executable} -m pip install scikit-learn\n",
    "!{sys.executable} -m pip install tensorflow\n",
    "!{sys.executable} -m pip install keras==2.3.1\n",
    "\n",
    "import pandas as pd\n",
    "import matplotlib.pyplot as plt\n",
    "import talib\n",
    "import seaborn as sns\n",
    "import statsmodels.api as sm\n",
    "import numpy as np\n",
    "from sklearn.tree import DecisionTreeRegressor\n",
    "from sklearn.ensemble import RandomForestRegressor, GradientBoostingRegressor\n",
    "from sklearn.model_selection import ParameterGrid\n",
    "from sklearn.preprocessing import scale\n",
    "from sklearn.neighbors import KNeighborsRegressor\n",
    "from sklearn.metrics import r2_score\n",
    "from keras.models import Sequential\n",
    "from keras.layers import Dense\n",
    "import keras.losses\n",
    "from keras.layers import Dropout\n",
    "import tensorflow as tf\n",
    "\n",
    "\n",
    "\n",
    "lng_df = pd.read_csv('data/lng.csv')\n",
    "spy_df = pd.read_csv('data/spy.csv')\n",
    "\n",
    "# Change index for Lesson 2\n",
    "lng_df.set_index('Date', inplace=True)\n",
    "lng_df.index = pd.to_datetime(lng_df.index)\n",
    "\n",
    "spy_df.set_index('Date', inplace=True)\n",
    "spy_df.index = pd.to_datetime(spy_df.index)\n",
    "\n",
    "\n",
    "# Create 5-day % changes of Adj_Close for the current day, and 5 days in the future\n",
    "lng_df['5d_future_close'] = lng_df['Adj_Close'].shift(-5)\n",
    "lng_df['5d_close_future_pct'] = lng_df['5d_future_close'].pct_change(5)\n",
    "lng_df['5d_close_pct'] = lng_df['Adj_Close'].pct_change(5)\n",
    "\n",
    "feature_names = ['5d_close_pct']  # a list of the feature names for later\n",
    "\n",
    "# Create moving averages and rsi for timeperiods of 14, 30, 50, and 200\n",
    "for n in [14, 30, 50, 200]:\n",
    "\n",
    "    # Create the moving average indicator and divide by Adj_Close\n",
    "    lng_df['ma' + str(n)] = talib.SMA(lng_df['Adj_Close'].values,\n",
    "                              timeperiod=n) / lng_df['Adj_Close']\n",
    "    # Create the RSI indicator\n",
    "    lng_df['rsi' + str(n)] = talib.RSI(lng_df['Adj_Close'].values, timeperiod=n)\n",
    "    \n",
    "    # Add rsi and moving average to the feature name list\n",
    "    feature_names = feature_names + ['ma' + str(n), 'rsi' + str(n)]\n",
    "\n",
    "\n",
    "# Create features and targets\n",
    "# use feature_names for features; '5d_close_future_pct' for targets\n",
    "features = lng_df.dropna()[feature_names]\n",
    "targets = lng_df.dropna()['5d_close_future_pct']\n",
    "\n",
    "# Create DataFrame from target column and feature columns\n",
    "feature_and_target_cols = ['5d_close_future_pct'] + feature_names\n",
    "feat_targ_df = lng_df[feature_and_target_cols]\n",
    "\n",
    "# Add a constant to the features\n",
    "linear_features = sm.add_constant(features)\n",
    "\n",
    "# Create a size for the training set that is 85% of the total number of samples\n",
    "train_size = int(0.85 * features.shape[0])\n",
    "train_features = linear_features[:train_size]\n",
    "train_targets = targets[:train_size]\n",
    "test_features = linear_features[train_size:]\n",
    "test_targets = targets[train_size:]\n",
    "\n",
    "# Create 2 new volume features, 1-day % change and 5-day SMA of the % change\n",
    "new_features = ['Adj_Volume_1d_change', 'Adj_Volume_1d_change_SMA']\n",
    "feature_names.extend(new_features)\n",
    "lng_df['Adj_Volume_1d_change'] = lng_df['Adj_Volume'].pct_change()\n",
    "lng_df['Adj_Volume_1d_change_SMA'] = talib.SMA(lng_df['Adj_Volume_1d_change'].values,\n",
    "                        timeperiod=5)\n",
    "\n",
    "# Use pandas' get_dummies function to get dummies for day of the week\n",
    "days_of_week = pd.get_dummies(lng_df.index.dayofweek,\n",
    "                              prefix='weekday',\n",
    "                              drop_first=True)\n",
    "# Set the index as the original dataframe index for merging\n",
    "days_of_week.index = lng_df.index\n",
    "\n",
    "# Join the dataframe with the days of week dataframe\n",
    "\n",
    "lng_df = pd.concat([lng_df, days_of_week], axis=1)\n",
    "# Add days of week to feature names\n",
    "feature_names.extend(['weekday_' + str(i) for i in range(1, 5)])\n",
    "lng_df.dropna(inplace=True)  # drop missing values in-place\n",
    "\n",
    "# Add the weekday labels to the new_features list\n",
    "new_features.extend(['weekday_' + str(i) for i in range(1, 5)])\n",
    "\n",
    "# Create a decision tree regression model with default arguments\n",
    "decision_tree = DecisionTreeRegressor()\n",
    "\n",
    "train_features = lng_df[feature_names].iloc[:250]\n",
    "test_features = lng_df[feature_names].iloc[250:]\n",
    "\n",
    "# Fit the model to the training features and targets\n",
    "decision_tree.fit(train_features, train_targets)\n",
    "\n",
    "# Loop through a few different max depths and check the performance\n",
    "for d in [3, 5, 10]:\n",
    "    # Create the tree and fit it\n",
    "    decision_tree = DecisionTreeRegressor(max_depth = d)\n",
    "    decision_tree.fit(train_features, train_targets)\n",
    "\n",
    "# Use the best max_depth of 3 from last exercise to fit a decision tree\n",
    "decision_tree = DecisionTreeRegressor(max_depth=3)\n",
    "decision_tree.fit(train_features, train_targets)\n",
    "\n",
    "# Predict values for train and test\n",
    "train_predictions = decision_tree.predict(train_features)\n",
    "test_predictions = decision_tree.predict(test_features)\n",
    "\n",
    "# Create the random forest model and fit to the training data\n",
    "rfr = RandomForestRegressor(n_estimators=200)\n",
    "rfr.fit(train_features, train_targets)\n",
    "\n",
    "# Create a dictionary of hyperparameters to search\n",
    "grid = {'n_estimators': [200], 'max_depth': [3], 'max_features': [4,8], 'random_state': [42]}\n",
    "test_scores = []\n",
    "\n",
    "# Loop through the parameter grid, set the hyperparameters, and save the scores\n",
    "for g in ParameterGrid(grid):\n",
    "    rfr.set_params(**g)  # ** is \"unpacking\" the dictionary\n",
    "    rfr.fit(train_features, train_targets)\n",
    "    test_scores.append(rfr.score(test_features, test_targets))\n",
    "\n",
    "# Find best hyperparameters from the test score and print\n",
    "best_idx = np.argmax(test_scores)\n",
    "\n",
    "# Use the best hyperparameters from before to fit a random forest model\n",
    "rfr = RandomForestRegressor(n_estimators=200, max_depth=3, max_features=4, random_state=42)\n",
    "rfr.fit(train_features, train_targets)\n",
    "\n",
    "# Make predictions with our model\n",
    "train_predictions = rfr.predict(train_features)\n",
    "test_predictions = rfr.predict(test_features)\n",
    "\n",
    "# Get feature importances from our random forest model\n",
    "importances = rfr.feature_importances_\n",
    "\n",
    "# Get the index of importances from greatest importance to least\n",
    "sorted_index = np.argsort(importances)[::-1]\n",
    "x = range(len(importances))\n",
    "\n",
    "# Create tick labels \n",
    "labels = np.array(feature_names)[sorted_index]\n",
    "\n",
    "# Create GB model -- hyperparameters have already been searched for you\n",
    "gbr = GradientBoostingRegressor(max_features=4,\n",
    "                                learning_rate=0.01,\n",
    "                                n_estimators=200,\n",
    "                                subsample=0.6,\n",
    "                                random_state=42)\n",
    "gbr.fit(train_features, train_targets)\n",
    "\n",
    "# Extract feature importances from the fitted gradient boosting model\n",
    "feature_importances = gbr.feature_importances_\n",
    "\n",
    "# Get the indices of the largest to smallest feature importances\n",
    "sorted_index = np.argsort(feature_importances)[::-1]\n",
    "features = lng_df.dropna()[feature_names]\n",
    "x = range(features.shape[1])\n",
    "\n",
    "# Create tick labels \n",
    "labels = np.array(feature_names)[sorted_index]"
   ]
  },
  {
   "cell_type": "markdown",
   "metadata": {},
   "source": [
    "## Standardizing Data\n",
    "Some models, like K-nearest neighbors (KNN) & neural networks, work better with scaled data - so we'll standardize our data.\n",
    "\n",
    "We'll also remove unimportant variables (day of week), according to feature importances, by indexing the features DataFrames with `.iloc[]`. KNN uses distances to find similar points for predictions, so big features outweigh small ones. Scaling data fixes that.\n",
    "\n",
    "`sklearn`'s `scale()` will standardize data, which sets the mean to 0 and standard deviation to 1.\n",
    "\n",
    "Once we've scaled the data, we'll check that it worked by plotting histograms of the data.\n",
    "\n",
    "### Instructions\n",
    "* Remove day of the week features from train/test features using `.iloc` (day of the week are the last 4 features).\n",
    "* Standardize `train_features` and `test_features` using `sklearn`'s `scale()`; store scaled features as `scaled_train_features` and `scaled_test_features`.\n",
    "* Plot a histogram of the 14-day RSI moving average (indexed at `[:, 2]`) from unscaled `trained_features` on the first subplot (`ax[0]`)."
   ]
  },
  {
   "cell_type": "code",
   "execution_count": 34,
   "metadata": {},
   "outputs": [
    {
     "data": {
      "image/png": "[encoded data removed]",
      "text/plain": [
       "<Figure size 432x288 with 2 Axes>"
      ]
     },
     "metadata": {
      "needs_background": "light"
     },
     "output_type": "display_data"
    }
   ],
   "source": [
    "# Remove unimportant features (weekdays)\n",
    "train_features = train_features.iloc[:, :-4]\n",
    "test_features = test_features.iloc[:, :-4]\n",
    "\n",
    "\n",
    "\n",
    "# Standardize the train and test features\n",
    "scaled_train_features = scale(train_features)\n",
    "scaled_test_features = scale(test_features)\n",
    "\n",
    "# Plot histograms of the 14-day SMA RSI before and after scaling\n",
    "f, ax = plt.subplots(nrows=2, ncols=1)\n",
    "train_features.iloc[:, 2].hist(ax=ax[0])\n",
    "ax[1].hist(scaled_train_features[:, 2])\n",
    "plt.show()"
   ]
  },
  {
   "cell_type": "markdown",
   "metadata": {},
   "source": [
    "Nice work! Next we're going to optimize n_neighbors for improved performance."
   ]
  },
  {
   "cell_type": "markdown",
   "metadata": {},
   "source": [
    "## Optimize n_neighbors\n",
    "\n",
    "Now that we have scaled data, we can try using a KNN model. To maximize performance, we should tune our model's hyperparameters. For the k-nearest neighbors algorithm, we only have one hyperparameter: `n`, the number of neighbors. We set this hyperparameter when we create the model with `KNeighborsRegressor`. The argument for the number of neighbors is `n_neighbors`.\n",
    "\n",
    "We want to try a range of values that passes through the setting with the best performance. Usually we will start with 2 neighbors, and increase until our scoring metric starts to decrease. We'll use the R^2 value from the `.score()` method on the test set (`scaled_test_features` and `test_targets`) to optimize n here. We'll use the test set scores to determine the best `n`.\n",
    "\n",
    "### Instructions\n",
    "* Loop through the values of 2 to 12 for `n` and set this as `n_neighbors` in the `knn` model.\n",
    "* Fit the model to the training data (`scaled_train_features` and `train_targets`). \n",
    "* Print out the R^2 values using the `.score()` method of the `knn` model for the train and test sets, and take note of the best score on the test set."
   ]
  },
  {
   "cell_type": "code",
   "execution_count": 35,
   "metadata": {},
   "outputs": [
    {
     "name": "stdout",
     "output_type": "stream",
     "text": [
      "n_neighbors = 2\n",
      "train, test scores\n",
      "0.7086590518110245\n",
      "-0.2457051272374251\n",
      "\n",
      "n_neighbors = 3\n",
      "train, test scores\n",
      "0.6161299695003466\n",
      "-0.02824798752790114\n",
      "\n",
      "n_neighbors = 4\n",
      "train, test scores\n",
      "0.5698590844708642\n",
      "0.054069637288982064\n",
      "\n",
      "n_neighbors = 5\n",
      "train, test scores\n",
      "0.5306669823361658\n",
      "0.09562673296186885\n",
      "\n",
      "n_neighbors = 6\n",
      "train, test scores\n",
      "0.4924157634083257\n",
      "0.06493624818165344\n",
      "\n",
      "n_neighbors = 7\n",
      "train, test scores\n",
      "0.4638477451246331\n",
      "0.018590670460287284\n",
      "\n",
      "n_neighbors = 8\n",
      "train, test scores\n",
      "0.4305841272960338\n",
      "0.03430514088288383\n",
      "\n",
      "n_neighbors = 9\n",
      "train, test scores\n",
      "0.39035273655318137\n",
      "-0.054993685932298586\n",
      "\n",
      "n_neighbors = 10\n",
      "train, test scores\n",
      "0.3585431044577594\n",
      "-0.04569165134882858\n",
      "\n",
      "n_neighbors = 11\n",
      "train, test scores\n",
      "0.3100220686973306\n",
      "-0.08074815512838707\n",
      "\n",
      "n_neighbors = 12\n",
      "train, test scores\n",
      "0.2742940406863563\n",
      "-0.07302787030122504\n",
      "\n"
     ]
    }
   ],
   "source": [
    "for n in range(2,13):\n",
    "    # Create and fit the KNN model\n",
    "    knn = KNeighborsRegressor(n_neighbors=n)\n",
    "    \n",
    "    # Fit the model to the training data\n",
    "    knn.fit(scaled_train_features, train_targets)\n",
    "    \n",
    "    # Print number of neighbors and the score to find the best value of n\n",
    "    print(\"n_neighbors =\", n)\n",
    "    print('train, test scores')\n",
    "    print(knn.score(scaled_train_features, train_targets))\n",
    "    print(knn.score(scaled_test_features, test_targets))\n",
    "    print()  # prints a blank line"
   ]
  },
  {
   "cell_type": "markdown",
   "metadata": {},
   "source": [
    "Nice work! See how 5 is the best number of neighbors based on the test score?\""
   ]
  },
  {
   "cell_type": "markdown",
   "metadata": {},
   "source": [
    "## Evaluate KNN performance\n",
    "\n",
    "We just saw a few things with our KNN scores. For one, the training scores started high and decreased with increasing `n`, which is typical. The test set performance reached a peak at 5 though, and we will use that as our setting in the final KNN model.\n",
    "\n",
    "As we have done a few times now, we will check our performance visually. This helps us see how well the model is predicting on different regions of actual values. We will get predictions from our `knn` model using the `.predict()` method on our scaled features. Then we'll use `matplotlib`'s `plt.scatter()` to create a scatter plot of actual versus predicted values.\n",
    "\n",
    "### Instructions\n",
    "* Set `n_neighborrs` in the `KNeighborsRegressor` to the best performing value of 5.\n",
    "* Obtain predictions using the `knn` model from the `scaled_train_features` and `scaled_test_features`.\n",
    "* Create a scatter plot of the `test_targets` versus the `test_predictions` and label it `test`."
   ]
  },
  {
   "cell_type": "code",
   "execution_count": 36,
   "metadata": {},
   "outputs": [
    {
     "data": {
      "image/png": "[encoded data removed]",
      "text/plain": [
       "<Figure size 432x288 with 1 Axes>"
      ]
     },
     "metadata": {
      "needs_background": "light"
     },
     "output_type": "display_data"
    }
   ],
   "source": [
    "# Create the model with the best-performing n_neighbors of 5\n",
    "knn = KNeighborsRegressor(n_neighbors = 5)\n",
    "\n",
    "# Fit the model\n",
    "knn.fit(scaled_train_features, train_targets)\n",
    "\n",
    "# Get predictions for train and test sets\n",
    "train_predictions = knn.predict(scaled_train_features)\n",
    "test_predictions = knn.predict(scaled_test_features)\n",
    "\n",
    "# Plot the actual vs predicted values\n",
    "plt.scatter(train_predictions, train_targets, label='train')\n",
    "plt.scatter(test_predictions, test_targets, label='test')\n",
    "plt.legend()\n",
    "plt.show()"
   ]
  },
  {
   "cell_type": "markdown",
   "metadata": {},
   "source": [
    "Great work! It looks like this model is showing some hope"
   ]
  },
  {
   "cell_type": "markdown",
   "metadata": {},
   "source": [
    "## Build and fit a simple neural net\n",
    "The next model we will learn how to use is a neural network. Neural nets can capture complex interactions between variables, but are difficult to set up and understand. Recently, they have been beating human experts in many fields, including image recognition and gaming (check out AlphaStar from Deepmind) - so they have great potential to perform well.\n",
    "\n",
    "To build our nets we'll use the `keras` library. This is a high-level API that allows us to quickly make neural nets, yet still exercise a lot of control over the design. The first thing we'll do is create almost the simplest net possible - a 3-layer net that takes our inputs and predicts a single value. Much like the `sklearn` models, keras models have a `.fit()` method that takes arguments of (`features`, `targets`).\n",
    "\n",
    "### Instructions\n",
    "* Create a dense layer with 20 nodes and the ReLU (`'relu'`) activation as the 2nd layer in the neural network.\n",
    "* Create the last dense layer with 1 node and a linear activation (`activation='linear'`).\n",
    "* Fit the model to the `scaled_train_features` and `train_targets`."
   ]
  },
  {
   "cell_type": "code",
   "execution_count": 37,
   "metadata": {},
   "outputs": [
    {
     "name": "stdout",
     "output_type": "stream",
     "text": [
      "Epoch 1/25\n",
      "250/250 [==============================] - 2s 9ms/step - loss: 0.0848\n",
      "Epoch 2/25\n",
      "250/250 [==============================] - 0s 37us/step - loss: 0.0284\n",
      "Epoch 3/25\n",
      "250/250 [==============================] - 0s 40us/step - loss: 0.0157\n",
      "Epoch 4/25\n",
      "250/250 [==============================] - 0s 46us/step - loss: 0.0079\n",
      "Epoch 5/25\n",
      "250/250 [==============================] - 0s 42us/step - loss: 0.0061\n",
      "Epoch 6/25\n",
      "250/250 [==============================] - 0s 51us/step - loss: 0.0045\n",
      "Epoch 7/25\n",
      "250/250 [==============================] - 0s 57us/step - loss: 0.0036\n",
      "Epoch 8/25\n",
      "250/250 [==============================] - 0s 43us/step - loss: 0.0029\n",
      "Epoch 9/25\n",
      "250/250 [==============================] - 0s 38us/step - loss: 0.0024\n",
      "Epoch 10/25\n",
      "250/250 [==============================] - 0s 42us/step - loss: 0.0021\n",
      "Epoch 11/25\n",
      "250/250 [==============================] - 0s 44us/step - loss: 0.0019\n",
      "Epoch 12/25\n",
      "250/250 [==============================] - 0s 45us/step - loss: 0.0018\n",
      "Epoch 13/25\n",
      "250/250 [==============================] - 0s 40us/step - loss: 0.0016\n",
      "Epoch 14/25\n",
      "250/250 [==============================] - 0s 46us/step - loss: 0.0015\n",
      "Epoch 15/25\n",
      "250/250 [==============================] - 0s 47us/step - loss: 0.0014\n",
      "Epoch 16/25\n",
      "250/250 [==============================] - 0s 40us/step - loss: 0.0013\n",
      "Epoch 17/25\n",
      "250/250 [==============================] - 0s 41us/step - loss: 0.0013\n",
      "Epoch 18/25\n",
      "250/250 [==============================] - 0s 50us/step - loss: 0.0012\n",
      "Epoch 19/25\n",
      "250/250 [==============================] - 0s 50us/step - loss: 0.0011\n",
      "Epoch 20/25\n",
      "250/250 [==============================] - 0s 47us/step - loss: 0.0010\n",
      "Epoch 21/25\n",
      "250/250 [==============================] - 0s 46us/step - loss: 0.0010\n",
      "Epoch 22/25\n",
      "250/250 [==============================] - 0s 48us/step - loss: 9.1492e-04\n",
      "Epoch 23/25\n",
      "250/250 [==============================] - 0s 37us/step - loss: 8.7958e-04\n",
      "Epoch 24/25\n",
      "250/250 [==============================] - 0s 47us/step - loss: 9.3307e-04\n",
      "Epoch 25/25\n",
      "250/250 [==============================] - 0s 59us/step - loss: 8.0201e-04\n"
     ]
    }
   ],
   "source": [
    "# Create the model\n",
    "model_1 = Sequential()\n",
    "model_1.add(Dense(100, input_dim=scaled_train_features.shape[1], activation='relu'))\n",
    "model_1.add(Dense(20, activation='relu'))\n",
    "model_1.add(Dense(1, activation='linear'))\n",
    "\n",
    "# Fit the model\n",
    "model_1.compile(optimizer='adam', loss='mse')\n",
    "history = model_1.fit(scaled_train_features, train_targets, epochs=25)"
   ]
  },
  {
   "cell_type": "markdown",
   "metadata": {},
   "source": [
    "Great work! Now we need to check that our training loss has flattened out and the net is sufficiently trained."
   ]
  },
  {
   "cell_type": "markdown",
   "metadata": {},
   "source": [
    "## Plot losses\n",
    "\n",
    "Once we've fit a model, we usually check the training loss curve to make sure it's flattened out. The `history` returned from `model.fit()` is a dictionary that has an entry, `'loss'`, which is the training loss. We want to ensure this has more or less flattened out at the end of our training.\n",
    "\n",
    "### Instructions\n",
    "* Plot the losses (`'loss'`) from `history.history`.\n",
    "* Set the title of the plot as the last loss from `history.history`, and round it to 6 digits."
   ]
  },
  {
   "cell_type": "code",
   "execution_count": 39,
   "metadata": {},
   "outputs": [
    {
     "data": {
      "image/png": "[encoded data removed]",
      "text/plain": [
       "<Figure size 432x288 with 1 Axes>"
      ]
     },
     "metadata": {
      "needs_background": "light"
     },
     "output_type": "display_data"
    }
   ],
   "source": [
    "# Plot the losses from the fit\n",
    "plt.plot(history.history['loss'])\n",
    "\n",
    "# Use the last loss as the title\n",
    "plt.title('loss:' + str(round(history.history['loss'][-1], 6)))\n",
    "plt.show()"
   ]
  },
  {
   "cell_type": "markdown",
   "metadata": {},
   "source": [
    "Nice work! We can see our loss has flattened out, so we're good!"
   ]
  },
  {
   "cell_type": "markdown",
   "metadata": {},
   "source": [
    "### Measure Performance\n",
    "Now that we've fit our neural net, let's check performance to see how well our model is predicting new values. There's not a built-in `.score()` method like with `sklearn` models, so we'll use the `r2_score()` function from `sklearn.metrics`. This calculates the R^2 score given arguments (`y_true`, `y_predicted`). We'll also plot our predictions versus actual values again. This will yield some interesting results soon (once we implement our own custom loss function).\n",
    "\n",
    "### Instructions\n",
    "* Obtain predictions from `model_1` on the scaled test set data (`scaled_test_features` and `test_targets`).\n",
    "* Print the R^2 score on the test set (`test_targets` and `test_preds`).\n",
    "* Plot the `test_preds` versus `test_targets` in a scatter plot with `plt.scatter()`."
   ]
  },
  {
   "cell_type": "code",
   "execution_count": 40,
   "metadata": {},
   "outputs": [
    {
     "name": "stdout",
     "output_type": "stream",
     "text": [
      "0.3047513531322057\n",
      "-1.3069593017842989\n"
     ]
    },
    {
     "data": {
      "image/png": "[encoded data removed]",
      "text/plain": [
       "<Figure size 432x288 with 1 Axes>"
      ]
     },
     "metadata": {
      "needs_background": "light"
     },
     "output_type": "display_data"
    }
   ],
   "source": [
    "# Calculate R^2 score\n",
    "train_preds = model_1.predict(scaled_train_features)\n",
    "test_preds = model_1.predict(scaled_test_features)\n",
    "print(r2_score(train_targets, train_preds))\n",
    "print(r2_score(test_targets, test_preds))\n",
    "\n",
    "# Plot predictions vs actual\n",
    "plt.scatter(train_preds, train_targets, label='train')\n",
    "plt.scatter(test_preds, test_targets, label='test')\n",
    "plt.legend()\n",
    "plt.show()"
   ]
  },
  {
   "cell_type": "markdown",
   "metadata": {},
   "source": [
    "Nice work! It doesn't look too much different from our other models just yet, don't lose hope!"
   ]
  },
  {
   "cell_type": "markdown",
   "metadata": {},
   "source": [
    "## Custom loss function\n",
    "Up to now, we've used the mean squared error as a loss function. This works fine, but with stock price prediction it can be useful to implement a custom loss function. A custom loss function can help improve our model's performance in specific ways we choose. For example, we're going to create a custom loss function with a large penalty for predicting price movements in the wrong direction. This will help our net learn to at least predict price movements in the correct direction.\n",
    "\n",
    "To do this, we need to write a function that takes arguments of (`y_true`, `y_predicted`). We'll also use functionality from the backend `keras` (using `tensorflow`) to find cases where the true value and prediction don't match signs, then penalize those cases.\n",
    "\n",
    "### Instructions\n",
    "* Set the arguments of the `sign_penalty(`) function to be `y_true` and `y_pred`.\n",
    "* Multiply the squared error (`tf.square(y_true - y_pred)`) by penalty when the signs of `y_true` and `y_pred` are different.\n",
    "* Return the average of the loss variable from the function - this is the mean squared error (with our penalty for opposite signs of actual vs predictions)."
   ]
  },
  {
   "cell_type": "code",
   "execution_count": 41,
   "metadata": {},
   "outputs": [
    {
     "name": "stdout",
     "output_type": "stream",
     "text": [
      "<function sign_penalty at 0x1451a25f0>\n"
     ]
    }
   ],
   "source": [
    "import keras.losses\n",
    "import tensorflow as tf\n",
    "\n",
    "# Create loss function\n",
    "def sign_penalty(y_true, y_pred):\n",
    "    penalty = 100.\n",
    "    loss = tf.where(tf.less(y_true * y_pred, 0), \\\n",
    "                     penalty * tf.square(y_true - y_pred), \\\n",
    "                     tf.square(y_true - y_pred))\n",
    "\n",
    "    return tf.reduce_mean(loss, axis=-1)\n",
    "\n",
    "keras.losses.sign_penalty = sign_penalty  # enable use of loss with keras\n",
    "print(keras.losses.sign_penalty)"
   ]
  },
  {
   "cell_type": "markdown",
   "metadata": {},
   "source": [
    "Great job! Now we'll see how that loss function affects our predictions."
   ]
  },
  {
   "cell_type": "markdown",
   "metadata": {},
   "source": [
    "## Fit neural net with custom loss function\n",
    "Now we'll use the custom loss function we just created. This will enable us to alter the model's behavior in useful ways particular to our problem - it's going to try to force the model to learn how to at least predict price movement direction correctly. All we need to do now is set the `loss` argument in our `.compile()` function to our function name, `sign_penalty`. We'll examine the training loss again to make sure it's flattened out.\n",
    "\n",
    "### Instructions\n",
    "* Set the `input_dim` of the first neural network layer to be the number of columns of `scaled_train_features` with the `.shape[1]` property.\n",
    "* Use the custom `sign_penalty` loss function to `.compile()` our `model_2`.\n",
    "* Plot the loss from the `history` of the fit. The loss is under `history.history['loss']`."
   ]
  },
  {
   "cell_type": "code",
   "execution_count": 45,
   "metadata": {},
   "outputs": [
    {
     "name": "stdout",
     "output_type": "stream",
     "text": [
      "Epoch 1/25\n",
      "250/250 [==============================] - 0s 1ms/step - loss: 2.1131\n",
      "Epoch 2/25\n",
      "250/250 [==============================] - 0s 44us/step - loss: 0.8833\n",
      "Epoch 3/25\n",
      "250/250 [==============================] - 0s 48us/step - loss: 0.4456\n",
      "Epoch 4/25\n",
      "250/250 [==============================] - 0s 61us/step - loss: 0.2179\n",
      "Epoch 5/25\n",
      "250/250 [==============================] - 0s 77us/step - loss: 0.1857\n",
      "Epoch 6/25\n",
      "250/250 [==============================] - 0s 41us/step - loss: 0.1464\n",
      "Epoch 7/25\n",
      "250/250 [==============================] - 0s 46us/step - loss: 0.1309\n",
      "Epoch 8/25\n",
      "250/250 [==============================] - 0s 46us/step - loss: 0.1027\n",
      "Epoch 9/25\n",
      "250/250 [==============================] - 0s 53us/step - loss: 0.0994\n",
      "Epoch 10/25\n",
      "250/250 [==============================] - 0s 47us/step - loss: 0.0685\n",
      "Epoch 11/25\n",
      "250/250 [==============================] - 0s 41us/step - loss: 0.0604\n",
      "Epoch 12/25\n",
      "250/250 [==============================] - 0s 42us/step - loss: 0.0601\n",
      "Epoch 13/25\n",
      "250/250 [==============================] - 0s 76us/step - loss: 0.0499\n",
      "Epoch 14/25\n",
      "250/250 [==============================] - 0s 36us/step - loss: 0.0482\n",
      "Epoch 15/25\n",
      "250/250 [==============================] - 0s 41us/step - loss: 0.0399\n",
      "Epoch 16/25\n",
      "250/250 [==============================] - 0s 50us/step - loss: 0.0351\n",
      "Epoch 17/25\n",
      "250/250 [==============================] - 0s 43us/step - loss: 0.0391\n",
      "Epoch 18/25\n",
      "250/250 [==============================] - 0s 50us/step - loss: 0.0280\n",
      "Epoch 19/25\n",
      "250/250 [==============================] - 0s 45us/step - loss: 0.0306\n",
      "Epoch 20/25\n",
      "250/250 [==============================] - 0s 55us/step - loss: 0.0239\n",
      "Epoch 21/25\n",
      "250/250 [==============================] - 0s 44us/step - loss: 0.0257\n",
      "Epoch 22/25\n",
      "250/250 [==============================] - 0s 47us/step - loss: 0.0251\n",
      "Epoch 23/25\n",
      "250/250 [==============================] - 0s 49us/step - loss: 0.0199\n",
      "Epoch 24/25\n",
      "250/250 [==============================] - 0s 57us/step - loss: 0.0175\n",
      "Epoch 25/25\n",
      "250/250 [==============================] - 0s 53us/step - loss: 0.0214\n"
     ]
    },
    {
     "data": {
      "image/png": "[encoded data removed]",
      "text/plain": [
       "<Figure size 432x288 with 1 Axes>"
      ]
     },
     "metadata": {
      "needs_background": "light"
     },
     "output_type": "display_data"
    }
   ],
   "source": [
    "# Create the model\n",
    "model_2 = Sequential()\n",
    "model_2.add(Dense(100, input_dim=scaled_train_features.shape[1], activation='relu'))\n",
    "model_2.add(Dense(20, activation='relu'))\n",
    "model_2.add(Dense(1, activation='linear'))\n",
    "\n",
    "# Fit the model with our custom 'sign_penalty' loss function\n",
    "model_2.compile(optimizer='adam', loss=sign_penalty)\n",
    "history = model_2.fit(scaled_train_features, train_targets, epochs=25)\n",
    "plt.plot(history.history['loss'])\n",
    "plt.title('loss:' + str(round(history.history['loss'][-1], 6)))\n",
    "plt.show()"
   ]
  },
  {
   "cell_type": "markdown",
   "metadata": {},
   "source": [
    "## Visualize the results\n",
    "We've fit our model with the custom loss function, and it's time to see how it is performing. We'll check the R^2 values again with `sklearn`'s `r2_score()` function, and we'll create a scatter plot of predictions versus actual values with `plt.scatter()`. This will hopefully yield some interesting results!\n",
    "\n",
    "### Instructions\n",
    "* Create predictions on the test set with `.predict()`, `model_2`, and `scaled_test_features`.\n",
    "* Evaluate the R^2 score on the test set predictions using `test_preds` and `test_targets`.\n",
    "* Plot the test set targets vs actual values with `plt.scatter()`, and label it `'test'`."
   ]
  },
  {
   "cell_type": "code",
   "execution_count": 46,
   "metadata": {},
   "outputs": [
    {
     "name": "stdout",
     "output_type": "stream",
     "text": [
      "-0.19518794813561446\n",
      "-0.6099854911098084\n"
     ]
    },
    {
     "data": {
      "image/png": "[encoded data removed]",
      "text/plain": [
       "<Figure size 432x288 with 1 Axes>"
      ]
     },
     "metadata": {
      "needs_background": "light"
     },
     "output_type": "display_data"
    }
   ],
   "source": [
    "# Evaluate R^2 scores\n",
    "train_preds = model_2.predict(scaled_train_features)\n",
    "test_preds = model_2.predict(scaled_test_features)\n",
    "print(r2_score(train_targets, train_preds))\n",
    "print(r2_score(test_targets, test_preds))\n",
    "\n",
    "# Scatter the predictions vs actual -- this one is interesting!\n",
    "plt.scatter(train_preds, train_targets, label='train')\n",
    "plt.scatter(test_preds, test_targets, label='test')  # plot test set\n",
    "plt.legend(); plt.show()"
   ]
  },
  {
   "cell_type": "markdown",
   "metadata": {},
   "source": [
    "Nice work! Notice how the train set actual vs predictions shape has changed to be a bow-tie."
   ]
  },
  {
   "cell_type": "markdown",
   "metadata": {},
   "source": [
    "## Combatting overfitting with dropout\n",
    "A common problem with neural networks is they tend to overfit to training data. What this means is the scoring metric, like R^2 or accuracy, is high for the training set, but low for testing and validation sets, and the model is fitting to noise in the training data.\n",
    "\n",
    "We can work towards preventing overfitting by using dropout. This randomly drops some neurons during the training phase, which helps prevent the net from fitting noise in the training data. `keras` has a `Dropout` layer that we can use to accomplish this. We need to set the dropout rate, or fraction of connections dropped during training time. This is set as a decimal between 0 and 1 in the `Dropout()` layer.\n",
    "\n",
    "We're going to go back to the mean squared error loss function for this model.\n",
    "\n",
    "### Instructions\n",
    "* Add a dropout layer (`Dropout()`) after the first Dense layer in the model, and use 20% (0.2) as the dropout rate.\n",
    "* Use the `adam` optimizer and the mse loss function when compiling the model in `.compile()`.\n",
    "* Fit the model to the s`caled_train_features` and `train_targets` using 25 epochs."
   ]
  },
  {
   "cell_type": "code",
   "execution_count": 49,
   "metadata": {},
   "outputs": [
    {
     "name": "stdout",
     "output_type": "stream",
     "text": [
      "Epoch 1/25\n",
      "250/250 [==============================] - 1s 2ms/step - loss: 0.0856\n",
      "Epoch 2/25\n",
      "250/250 [==============================] - 0s 46us/step - loss: 0.0389\n",
      "Epoch 3/25\n",
      "250/250 [==============================] - 0s 38us/step - loss: 0.0285\n",
      "Epoch 4/25\n",
      "250/250 [==============================] - 0s 53us/step - loss: 0.0229\n",
      "Epoch 5/25\n",
      "250/250 [==============================] - 0s 42us/step - loss: 0.0134\n",
      "Epoch 6/25\n",
      "250/250 [==============================] - 0s 47us/step - loss: 0.0085\n",
      "Epoch 7/25\n",
      "250/250 [==============================] - 0s 47us/step - loss: 0.0088\n",
      "Epoch 8/25\n",
      "250/250 [==============================] - 0s 51us/step - loss: 0.0078\n",
      "Epoch 9/25\n",
      "250/250 [==============================] - 0s 60us/step - loss: 0.0063\n",
      "Epoch 10/25\n",
      "250/250 [==============================] - 0s 46us/step - loss: 0.0060\n",
      "Epoch 11/25\n",
      "250/250 [==============================] - 0s 53us/step - loss: 0.0056\n",
      "Epoch 12/25\n",
      "250/250 [==============================] - 0s 48us/step - loss: 0.0053\n",
      "Epoch 13/25\n",
      "250/250 [==============================] - 0s 47us/step - loss: 0.0046\n",
      "Epoch 14/25\n",
      "250/250 [==============================] - 0s 51us/step - loss: 0.0049\n",
      "Epoch 15/25\n",
      "250/250 [==============================] - 0s 67us/step - loss: 0.0045\n",
      "Epoch 16/25\n",
      "250/250 [==============================] - 0s 88us/step - loss: 0.0036\n",
      "Epoch 17/25\n",
      "250/250 [==============================] - 0s 71us/step - loss: 0.0043\n",
      "Epoch 18/25\n",
      "250/250 [==============================] - 0s 43us/step - loss: 0.0042\n",
      "Epoch 19/25\n",
      "250/250 [==============================] - 0s 49us/step - loss: 0.0036\n",
      "Epoch 20/25\n",
      "250/250 [==============================] - 0s 46us/step - loss: 0.0037\n",
      "Epoch 21/25\n",
      "250/250 [==============================] - 0s 48us/step - loss: 0.0035\n",
      "Epoch 22/25\n",
      "250/250 [==============================] - 0s 47us/step - loss: 0.0026\n",
      "Epoch 23/25\n",
      "250/250 [==============================] - 0s 57us/step - loss: 0.0030\n",
      "Epoch 24/25\n",
      "250/250 [==============================] - 0s 57us/step - loss: 0.0024\n",
      "Epoch 25/25\n",
      "250/250 [==============================] - 0s 43us/step - loss: 0.0029\n"
     ]
    },
    {
     "data": {
      "image/png": "[encoded data removed]",
      "text/plain": [
       "<Figure size 432x288 with 1 Axes>"
      ]
     },
     "metadata": {
      "needs_background": "light"
     },
     "output_type": "display_data"
    }
   ],
   "source": [
    "# Create model with dropout\n",
    "model_3 = Sequential()\n",
    "model_3.add(Dense(100, input_dim=scaled_train_features.shape[1], activation='relu'))\n",
    "model_3.add(Dropout(0.2))\n",
    "model_3.add(Dense(20, activation='relu'))\n",
    "model_3.add(Dense(1, activation='linear'))\n",
    "\n",
    "# Fit model with mean squared error loss function\n",
    "model_3.compile(optimizer='adam', loss='mse')\n",
    "history = model_3.fit(scaled_train_features, train_targets, epochs=25)\n",
    "plt.plot(history.history['loss'])\n",
    "plt.title('loss:' + str(round(history.history['loss'][-1], 6)))\n",
    "plt.show()"
   ]
  },
  {
   "cell_type": "markdown",
   "metadata": {},
   "source": [
    "Great job! Dropout helps the model generalized a bit better to unseen data."
   ]
  },
  {
   "cell_type": "markdown",
   "metadata": {},
   "source": [
    "## Ensembling models\n",
    "One approach to improve predictions from machine learning models is ensembling. A basic approach is to average the predictions from multiple models. A more complex approach is to feed predictions of models into *another* model, which makes final predictions. Both approaches usually improve our overall performance (as long as our individual models are good). If you remember, random forests are also using ensembling of many decision trees.\n",
    "\n",
    "To ensemble our neural net predictions, we'll make predictions with the 3 models we just created -- the basic model, the model with the custom loss function, and the model with dropout. Then we'll combine the predictions with `numpy`'s `.hstack()` function, and average them across rows with `np.mean(predictions, axis=1)`.\n",
    "\n",
    "### Instructions\n",
    "* Create predictions on the `scaled_train_features` and `scaled_test_features` for the 3 models we fit (`model_1`, `model_2`, `model_3`) using the `.predict()` method.\n",
    "* Horizontally stack (`np.hstack()` the predictions into a matrix, and take the row-wise averages to get average predictions for the train and test sets."
   ]
  },
  {
   "cell_type": "code",
   "execution_count": 50,
   "metadata": {},
   "outputs": [
    {
     "name": "stdout",
     "output_type": "stream",
     "text": [
      "[-0.00699021  0.02161784  0.04191879 -0.04260431  0.0167666 ]\n"
     ]
    }
   ],
   "source": [
    "# Make predictions from the 3 neural net models\n",
    "train_pred1 = model_1.predict(scaled_train_features)\n",
    "test_pred1 = model_1.predict(scaled_test_features)\n",
    "\n",
    "train_pred2 = model_2.predict(scaled_train_features)\n",
    "test_pred2 = model_2.predict(scaled_test_features)\n",
    "\n",
    "train_pred3 = model_3.predict(scaled_train_features)\n",
    "test_pred3 = model_3.predict(scaled_test_features)\n",
    "\n",
    "# Horizontally stack predictions and take the average across rows\n",
    "train_preds = np.mean(np.hstack((train_pred1, train_pred2, train_pred3)), axis=1)\n",
    "test_preds = np.mean(np.hstack((test_pred1, test_pred2, test_pred3)), axis=1)\n",
    "print(test_preds[-5:])"
   ]
  },
  {
   "cell_type": "markdown",
   "metadata": {},
   "source": [
    "Good work! Now let's see how our ensemble predictions perform."
   ]
  },
  {
   "cell_type": "markdown",
   "metadata": {},
   "source": [
    "## See how the ensemble performed\n",
    "Let's check performance of our ensembled model to see how it's doing. We should see roughly an average of the R^2 scores, as well as a scatter plot that is a mix of our previous models' predictions. The bow-tie shape from the custom loss function model should still be a bit visible, but the edges near x=0 should be softer.\n",
    "\n",
    "### Instructions\n",
    "* Evaluate the R2 scores on the train and test sets. Use the `sklearn` `r2_score()` function (already imported for you) with `train_targets` and `train_preds` from earlier.\n",
    "* Plot the train and test predictions versus the actual values with `plt.scatter()`."
   ]
  },
  {
   "cell_type": "code",
   "execution_count": 51,
   "metadata": {},
   "outputs": [
    {
     "name": "stdout",
     "output_type": "stream",
     "text": [
      "0.47173484937158006\n",
      "-0.0062978991058868505\n"
     ]
    },
    {
     "data": {
      "image/png": "[encoded data removed]",
      "text/plain": [
       "<Figure size 432x288 with 1 Axes>"
      ]
     },
     "metadata": {
      "needs_background": "light"
     },
     "output_type": "display_data"
    }
   ],
   "source": [
    "# Evaluate the R^2 scores\n",
    "print(r2_score(train_targets, train_preds))\n",
    "print(r2_score(test_targets, test_preds))\n",
    "\n",
    "# Scatter the predictions vs actual -- this one is interesting!\n",
    "plt.scatter(train_preds, train_targets, label='train')\n",
    "plt.scatter(test_preds, test_targets, label='test')\n",
    "plt.legend(); plt.show()"
   ]
  },
  {
   "cell_type": "markdown",
   "metadata": {},
   "source": [
    "Nice work! Our R^2 values are around the average of the 3 models we ensembled. Notice the plot also looks like the bow-tie shape has been softened a bit."
   ]
  }
 ],
 "metadata": {
  "kernelspec": {
   "display_name": "Python 3",
   "language": "python",
   "name": "python3"
  },
  "language_info": {
   "codemirror_mode": {
    "name": "ipython",
    "version": 3
   },
   "file_extension": ".py",
   "mimetype": "text/x-python",
   "name": "python",
   "nbconvert_exporter": "python",
   "pygments_lexer": "ipython3",
   "version": "3.7.7"
  }
 },
 "nbformat": 4,
 "nbformat_minor": 4
}
